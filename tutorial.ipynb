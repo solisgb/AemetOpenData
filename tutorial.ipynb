{
 "cells": [
  {
   "cell_type": "markdown",
   "id": "9f8b37a1-552d-4c89-abf3-dad6b3576e66",
   "metadata": {},
   "source": [
    "# AEMET OpenData\n",
    "Aemet pone a disposición de los interesados una interfaz amigable para hacer la descarga de todos los datos que oferta en OpenData (https://opendata.aemet.es/centrodedescargas/inicio).\n",
    "\n",
    "En este notebook se muestra cómo se puede acceder a un subconjunto de los datos ofertados utilizando Python, bien de modo interactivo o utilizando el __módulo aemet_open_data__. Para trabajar en Python tienes que haber instalado la librería Pandas.\n",
    "\n",
    "Los datos que puedes decargar utilizando este notebook son:\n",
    "1. Estaciones climatológicas con datos en Aemet OpenData. Aemet tiene muchas más estaciones con datos, pero la mayor parte no están en OpenData.\n",
    "1. Variables climatológicas diarias.\n",
    "1. Variables climatológicas mensuales.\n",
    "\n",
    "Desde Aemet puedes descargar las variables climatológicas, pero se ponen limitaciones en el número de datos a descargar por petición. Por ejemplo, para los datos diarios hay que hacer una petición por estación y un máximo de 5 años de serie; para los datos mensuales, una estación y un máximo de 36 meses. Si quieres obtener datos de más de una estación para una serie larga tienes que repetir el proceso. En estos casos es cuando utilizar el módulo aemet_open_data u otro similar te permite ahorrar tiempo.\n",
    "\n",
    "Un cierto inconveniente es que entre los datos de las estaciones climatológicas OpenData no figura el primer dato de cada serie. Si quieres obtener las series completas tendrás que empezar haciendo peticiones desde una fecha inicial antigua e ir moviéndo progresivamente el rango hasta encontrar el inicio, lo que es tedioso si no utilizas un proceso automatizado, además de consumidor de recursos, pues en ocasiones tienes que hacer muchas peticiones que no van a devolver datos.  \n",
    "\n",
    "Si no estás interesado en el modo interactivo y lo que quieres es disponer rápido de los datos, te recomiendo ir directamente al apartado de cómo se utiliza el módulo aemet_open_data.\n",
    "\n",
    "En todos los casos necesitas una __clave de acceso__. Entra en la página de Aemet https://opendata.aemet.es/centrodedescargas/inicio y solicita una clave para operar en el servicio (APIKEY). La clave es una serie alfanumérica muy larga, sálvala en el fichero apikey.txt. Tu apikey no caduca.\n",
    "\n",
    "## 1.- USAR Python PASO A PASO\n",
    "\n",
    "Si tienes curiosidad de ver como se funciona la descarga de datos en Python instrucción por instrucción.\n",
    "\n",
    "Pasos:\n",
    "1. Se hace una petición de datos a Aemet, para lo que se necesita formar una url específica de cada tipo de datos que queremos descargar.\n",
    "1. Si la petición tiene éxito devuelve 2 url: una para descargar los datos y otra para descargar los metadatos. Estas 2 url tienen una tiempo de validez.\n"
   ]
  },
  {
   "cell_type": "code",
   "execution_count": 18,
   "id": "c1a087b5-f4b2-4cc9-9c5a-cc8f8ede03a5",
   "metadata": {},
   "outputs": [],
   "source": [
    "# Lo primero tengo que importar las librerías que voy a utilizar\n",
    "# recuerda que tienes que instalar Pandas\n",
    "from datetime import date\n",
    "import json\n",
    "import pandas as pd\n",
    "import requests"
   ]
  },
  {
   "cell_type": "code",
   "execution_count": 3,
   "id": "fa623243-f6a1-4132-af8b-be97fcc56cc2",
   "metadata": {},
   "outputs": [
    {
     "data": {
      "text/plain": [
       "dict_keys(['estaciones', 'estacion_dia', 'estacion_mes'])"
      ]
     },
     "execution_count": 3,
     "metadata": {},
     "output_type": "execute_result"
    }
   ],
   "source": [
    "# Leo mi apikey\n",
    "with open('apikey.txt') as f:\n",
    "    myapikey = f.readline()\n",
    "\n",
    "# Leo las urls que tengo preparadas (hay muchas más)\n",
    "with open('urls.json', 'r') as f:\n",
    "    urls = json.load(f)\n",
    "\n",
    "querystring = {\"api_key\":myapikey}\n",
    "headers = {'cache-control': \"no-cache\"}\n",
    "\n",
    "# ver la url que teng preparadas y los parámetros (esta petición no tiene)aemet_open_data\n",
    "urls.keys()"
   ]
  },
  {
   "cell_type": "markdown",
   "id": "625642d1-e87e-4bf4-896a-0cc4a820fe60",
   "metadata": {},
   "source": [
    "Es decir, en el fichero urls.json tengo guardadas 3 urls para descargar datos:\n",
    "1. estaciones. Los datos de las estaciones\n",
    "2. estacion_dia. Los datos de las variables climatológicas diarias por estación\n",
    "3. estacion_mes. Los datos de las variables climatológicas mensuales por estación "
   ]
  },
  {
   "cell_type": "markdown",
   "id": "9c23e2e5-1e3a-4ca8-8163-35df1ac35637",
   "metadata": {},
   "source": [
    "### Estaciones AEMET OpenData\n",
    "Petición de todas las estaciones meteorológicas que sirven datos en el servicio OpenData "
   ]
  },
  {
   "cell_type": "code",
   "execution_count": 10,
   "id": "e06e13c7-0b2a-460b-8c36-0541eb406bff",
   "metadata": {},
   "outputs": [
    {
     "data": {
      "text/plain": [
       "['https://opendata.aemet.es/opendata/api/valores/climatologicos/inventarioestaciones/todasestaciones',\n",
       " []]"
      ]
     },
     "execution_count": 10,
     "metadata": {},
     "output_type": "execute_result"
    }
   ],
   "source": [
    "# Para ver la información completa para descargar los datos de las estaciones\n",
    "urls['estaciones']"
   ]
  },
  {
   "cell_type": "code",
   "execution_count": 11,
   "id": "02f9cd33-29e1-4b3f-bb4a-1351eec5c7e5",
   "metadata": {},
   "outputs": [
    {
     "data": {
      "text/plain": [
       "'https://opendata.aemet.es/opendata/api/valores/climatologicos/inventarioestaciones/todasestaciones'"
      ]
     },
     "execution_count": 11,
     "metadata": {},
     "output_type": "execute_result"
    }
   ],
   "source": [
    "# veo que sólo necesito la url, es decir: \n",
    "urls['estaciones'][0]"
   ]
  },
  {
   "cell_type": "code",
   "execution_count": 12,
   "id": "a4728384-1509-4487-acba-ee6e83a3fe5b",
   "metadata": {},
   "outputs": [
    {
     "data": {
      "text/plain": [
       "{'descripcion': 'exito',\n",
       " 'estado': 200,\n",
       " 'datos': 'https://opendata.aemet.es/opendata/sh/5a60779b',\n",
       " 'metadatos': 'https://opendata.aemet.es/opendata/sh/0556af7a'}"
      ]
     },
     "execution_count": 12,
     "metadata": {},
     "output_type": "execute_result"
    }
   ],
   "source": [
    "# aquí hago la petición (request) y veo la respuesta (response y content)\n",
    "url = urls['estaciones'][0]\n",
    "response = requests.request(\"GET\", url, headers=headers, params=querystring)\n",
    "content = json.loads(response.content)\n",
    "content"
   ]
  },
  {
   "cell_type": "markdown",
   "id": "d167c508-dbd9-4682-bca1-e5e0c147c067",
   "metadata": {},
   "source": [
    "La petición me ha devuelto la respuesta del servidor de Aemet.\n",
    "\n",
    "* Un código de la respuesta (estado) y una descripción del código\n",
    "* Dos urls; una para los metadatos y otra para los datos. Estas urls están activas durante un tiempo limitado"
   ]
  },
  {
   "cell_type": "code",
   "execution_count": 13,
   "id": "cbbbdd53-365c-42eb-a02d-be2a18eb6f82",
   "metadata": {},
   "outputs": [
    {
     "data": {
      "text/html": [
       "<div>\n",
       "<style scoped>\n",
       "    .dataframe tbody tr th:only-of-type {\n",
       "        vertical-align: middle;\n",
       "    }\n",
       "\n",
       "    .dataframe tbody tr th {\n",
       "        vertical-align: top;\n",
       "    }\n",
       "\n",
       "    .dataframe thead th {\n",
       "        text-align: right;\n",
       "    }\n",
       "</style>\n",
       "<table border=\"1\" class=\"dataframe\">\n",
       "  <thead>\n",
       "    <tr style=\"text-align: right;\">\n",
       "      <th></th>\n",
       "      <th>latitud</th>\n",
       "      <th>provincia</th>\n",
       "      <th>altitud</th>\n",
       "      <th>indicativo</th>\n",
       "      <th>nombre</th>\n",
       "      <th>indsinop</th>\n",
       "      <th>longitud</th>\n",
       "    </tr>\n",
       "  </thead>\n",
       "  <tbody>\n",
       "    <tr>\n",
       "      <th>0</th>\n",
       "      <td>413515N</td>\n",
       "      <td>BARCELONA</td>\n",
       "      <td>74</td>\n",
       "      <td>0252D</td>\n",
       "      <td>ARENYS DE MAR</td>\n",
       "      <td>08186</td>\n",
       "      <td>023224E</td>\n",
       "    </tr>\n",
       "    <tr>\n",
       "      <th>1</th>\n",
       "      <td>411734N</td>\n",
       "      <td>BARCELONA</td>\n",
       "      <td>4</td>\n",
       "      <td>0076</td>\n",
       "      <td>BARCELONA AEROPUERTO</td>\n",
       "      <td>08181</td>\n",
       "      <td>020412E</td>\n",
       "    </tr>\n",
       "    <tr>\n",
       "      <th>2</th>\n",
       "      <td>412506N</td>\n",
       "      <td>BARCELONA</td>\n",
       "      <td>408</td>\n",
       "      <td>0200E</td>\n",
       "      <td>BARCELONA, FABRA</td>\n",
       "      <td></td>\n",
       "      <td>020727E</td>\n",
       "    </tr>\n",
       "    <tr>\n",
       "      <th>3</th>\n",
       "      <td>412326N</td>\n",
       "      <td>BARCELONA</td>\n",
       "      <td>6</td>\n",
       "      <td>0201D</td>\n",
       "      <td>BARCELONA</td>\n",
       "      <td>08180</td>\n",
       "      <td>021200E</td>\n",
       "    </tr>\n",
       "    <tr>\n",
       "      <th>4</th>\n",
       "      <td>414312N</td>\n",
       "      <td>BARCELONA</td>\n",
       "      <td>291</td>\n",
       "      <td>0149X</td>\n",
       "      <td>MANRESA</td>\n",
       "      <td>08174</td>\n",
       "      <td>015025E</td>\n",
       "    </tr>\n",
       "  </tbody>\n",
       "</table>\n",
       "</div>"
      ],
      "text/plain": [
       "   latitud  provincia  altitud indicativo                nombre indsinop  \\\n",
       "0  413515N  BARCELONA       74      0252D         ARENYS DE MAR    08186   \n",
       "1  411734N  BARCELONA        4       0076  BARCELONA AEROPUERTO    08181   \n",
       "2  412506N  BARCELONA      408      0200E      BARCELONA, FABRA            \n",
       "3  412326N  BARCELONA        6      0201D             BARCELONA    08180   \n",
       "4  414312N  BARCELONA      291      0149X               MANRESA    08174   \n",
       "\n",
       "  longitud  \n",
       "0  023224E  \n",
       "1  020412E  \n",
       "2  020727E  \n",
       "3  021200E  \n",
       "4  015025E  "
      ]
     },
     "execution_count": 13,
     "metadata": {},
     "output_type": "execute_result"
    }
   ],
   "source": [
    "# si la petición tiene éxito puedo descargar los datos; el formato original es json\n",
    "# pero para majorar la visibilidad lo almaceno en una dataframe de pandas\n",
    "df = pd.read_json(content[\"datos\"], encoding='latin-1')\n",
    "df.head()"
   ]
  },
  {
   "cell_type": "code",
   "execution_count": 14,
   "id": "68bbb51f-7be3-4bb6-bf16-170d2af90072",
   "metadata": {},
   "outputs": [
    {
     "data": {
      "text/html": [
       "<div>\n",
       "<style scoped>\n",
       "    .dataframe tbody tr th:only-of-type {\n",
       "        vertical-align: middle;\n",
       "    }\n",
       "\n",
       "    .dataframe tbody tr th {\n",
       "        vertical-align: top;\n",
       "    }\n",
       "\n",
       "    .dataframe thead th {\n",
       "        text-align: right;\n",
       "    }\n",
       "</style>\n",
       "<table border=\"1\" class=\"dataframe\">\n",
       "  <thead>\n",
       "    <tr style=\"text-align: right;\">\n",
       "      <th></th>\n",
       "      <th>unidad_generadora</th>\n",
       "      <th>periodicidad</th>\n",
       "      <th>descripcion</th>\n",
       "      <th>formato</th>\n",
       "      <th>copyright</th>\n",
       "      <th>notaLegal</th>\n",
       "      <th>campos</th>\n",
       "    </tr>\n",
       "  </thead>\n",
       "  <tbody>\n",
       "    <tr>\n",
       "      <th>0</th>\n",
       "      <td>Servicio del Banco de Datos Nacional de Climat...</td>\n",
       "      <td>1 vez al día</td>\n",
       "      <td>Inventario de estaciones para el apartado Valo...</td>\n",
       "      <td>application/json</td>\n",
       "      <td>© AEMET. Autorizado el uso de la información y...</td>\n",
       "      <td>https://www.aemet.es/es/nota_legal</td>\n",
       "      <td>{'id': 'latitud', 'descripcion': 'latitud de l...</td>\n",
       "    </tr>\n",
       "    <tr>\n",
       "      <th>1</th>\n",
       "      <td>Servicio del Banco de Datos Nacional de Climat...</td>\n",
       "      <td>1 vez al día</td>\n",
       "      <td>Inventario de estaciones para el apartado Valo...</td>\n",
       "      <td>application/json</td>\n",
       "      <td>© AEMET. Autorizado el uso de la información y...</td>\n",
       "      <td>https://www.aemet.es/es/nota_legal</td>\n",
       "      <td>{'id': 'provincia', 'descripcion': 'provincia ...</td>\n",
       "    </tr>\n",
       "    <tr>\n",
       "      <th>2</th>\n",
       "      <td>Servicio del Banco de Datos Nacional de Climat...</td>\n",
       "      <td>1 vez al día</td>\n",
       "      <td>Inventario de estaciones para el apartado Valo...</td>\n",
       "      <td>application/json</td>\n",
       "      <td>© AEMET. Autorizado el uso de la información y...</td>\n",
       "      <td>https://www.aemet.es/es/nota_legal</td>\n",
       "      <td>{'id': 'indicativo', 'descripcion': 'indicativ...</td>\n",
       "    </tr>\n",
       "    <tr>\n",
       "      <th>3</th>\n",
       "      <td>Servicio del Banco de Datos Nacional de Climat...</td>\n",
       "      <td>1 vez al día</td>\n",
       "      <td>Inventario de estaciones para el apartado Valo...</td>\n",
       "      <td>application/json</td>\n",
       "      <td>© AEMET. Autorizado el uso de la información y...</td>\n",
       "      <td>https://www.aemet.es/es/nota_legal</td>\n",
       "      <td>{'id': 'altitud', 'descripcion': 'altitud de l...</td>\n",
       "    </tr>\n",
       "    <tr>\n",
       "      <th>4</th>\n",
       "      <td>Servicio del Banco de Datos Nacional de Climat...</td>\n",
       "      <td>1 vez al día</td>\n",
       "      <td>Inventario de estaciones para el apartado Valo...</td>\n",
       "      <td>application/json</td>\n",
       "      <td>© AEMET. Autorizado el uso de la información y...</td>\n",
       "      <td>https://www.aemet.es/es/nota_legal</td>\n",
       "      <td>{'id': 'nombre', 'descripcion': 'ubicación de ...</td>\n",
       "    </tr>\n",
       "  </tbody>\n",
       "</table>\n",
       "</div>"
      ],
      "text/plain": [
       "                                   unidad_generadora  periodicidad  \\\n",
       "0  Servicio del Banco de Datos Nacional de Climat...  1 vez al día   \n",
       "1  Servicio del Banco de Datos Nacional de Climat...  1 vez al día   \n",
       "2  Servicio del Banco de Datos Nacional de Climat...  1 vez al día   \n",
       "3  Servicio del Banco de Datos Nacional de Climat...  1 vez al día   \n",
       "4  Servicio del Banco de Datos Nacional de Climat...  1 vez al día   \n",
       "\n",
       "                                         descripcion           formato  \\\n",
       "0  Inventario de estaciones para el apartado Valo...  application/json   \n",
       "1  Inventario de estaciones para el apartado Valo...  application/json   \n",
       "2  Inventario de estaciones para el apartado Valo...  application/json   \n",
       "3  Inventario de estaciones para el apartado Valo...  application/json   \n",
       "4  Inventario de estaciones para el apartado Valo...  application/json   \n",
       "\n",
       "                                           copyright  \\\n",
       "0  © AEMET. Autorizado el uso de la información y...   \n",
       "1  © AEMET. Autorizado el uso de la información y...   \n",
       "2  © AEMET. Autorizado el uso de la información y...   \n",
       "3  © AEMET. Autorizado el uso de la información y...   \n",
       "4  © AEMET. Autorizado el uso de la información y...   \n",
       "\n",
       "                            notaLegal  \\\n",
       "0  https://www.aemet.es/es/nota_legal   \n",
       "1  https://www.aemet.es/es/nota_legal   \n",
       "2  https://www.aemet.es/es/nota_legal   \n",
       "3  https://www.aemet.es/es/nota_legal   \n",
       "4  https://www.aemet.es/es/nota_legal   \n",
       "\n",
       "                                              campos  \n",
       "0  {'id': 'latitud', 'descripcion': 'latitud de l...  \n",
       "1  {'id': 'provincia', 'descripcion': 'provincia ...  \n",
       "2  {'id': 'indicativo', 'descripcion': 'indicativ...  \n",
       "3  {'id': 'altitud', 'descripcion': 'altitud de l...  \n",
       "4  {'id': 'nombre', 'descripcion': 'ubicación de ...  "
      ]
     },
     "execution_count": 14,
     "metadata": {},
     "output_type": "execute_result"
    }
   ],
   "source": [
    "# Si la petición tuvo éxito también puedo descargar los metadatos\n",
    "# Observa que algunas columnas se visializan truncadas, pero si se graba\n",
    "# en un fichero se puede ver el texto completo\n",
    "df_meta = pd.read_json(content[\"metadatos\"], encoding='latin-1')\n",
    "df_meta.head()"
   ]
  },
  {
   "cell_type": "code",
   "execution_count": 15,
   "id": "6adac137-6267-4474-ba9d-d7765b0d2549",
   "metadata": {},
   "outputs": [],
   "source": [
    "# Los datos en df y en df_meta los puedo salvar en un fichero con varios formatos\n",
    "# aquí utilizo el formato csv, que puede ser leido con Excel o Calc, por ejemplo\n",
    "# para guardar los datos (df) y sus metadatos (df_meta) cambia el nombre al fichero en dst \n",
    "# y en la instrucción to_csv pon df o df_meta según el caso\n",
    "dst = '.\\download\\estaciones.csv'\n",
    "df.to_csv(dst, index=False)"
   ]
  },
  {
   "cell_type": "markdown",
   "id": "55d4cac5-e252-484f-9850-d268792e03c2",
   "metadata": {},
   "source": [
    "### Datos meteorológicos diarios de una estación y un rango de fechas de hasta 5 años\n",
    "Si quieres más de una estación o un periodo de más de 5 años hay que repetir el proceso para cada estación y periodo de hasta 5 años"
   ]
  },
  {
   "cell_type": "code",
   "execution_count": 16,
   "id": "a955c6cc-18a1-48c6-9a4f-5d76d72765f8",
   "metadata": {},
   "outputs": [
    {
     "data": {
      "text/plain": [
       "['https://opendata.aemet.es/opendata/api/valores/climatologicos/diarios/datos/fechaini/fechaIniStr/fechafin/fechaFinStr/estacion/idema',\n",
       " ['fechaIniStr format AAAA-MM-DDTHH:MM:SSUTC',\n",
       "  'fechaFinStr format AAAA-MM-DDTHH:MM:SSUTC',\n",
       "  'idema']]"
      ]
     },
     "execution_count": 16,
     "metadata": {},
     "output_type": "execute_result"
    }
   ],
   "source": [
    "# vemos la url a la que se va a hacer la petición y los parámetros:\n",
    "# 2 fechas en un formato específico y un código de estación idema\n",
    "urls['estacion_dia']"
   ]
  },
  {
   "cell_type": "markdown",
   "id": "c24961e9-d983-4cf4-8595-a78f2f303a49",
   "metadata": {},
   "source": [
    "La respuesta tiene la fefinición de la url y 3 parámetros que tengo que sustituir por un valor concreto en la petición:\n",
    "* fechaIniStr y fechaFinStr, fechas iniciales de la petición de datos con formato AAAA-MM-DDTHH:MM:SSUTC\n",
    "* idema, código de la estación"
   ]
  },
  {
   "cell_type": "code",
   "execution_count": 17,
   "id": "d1fab524-c837-4225-8d60-0d4bc82cb7a7",
   "metadata": {},
   "outputs": [
    {
     "name": "stdout",
     "output_type": "stream",
     "text": [
      "https://opendata.aemet.es/opendata/api/valores/climatologicos/diarios/datos/fechaini/2022-01-01T00:00:00UTC/fechafin/2023-01-01T23:59:59UTC/estacion/7178I\n"
     ]
    },
    {
     "data": {
      "text/plain": [
       "{'descripcion': 'exito',\n",
       " 'estado': 200,\n",
       " 'datos': 'https://opendata.aemet.es/opendata/sh/d73b5665',\n",
       " 'metadatos': 'https://opendata.aemet.es/opendata/sh/b3aa9d28'}"
      ]
     },
     "execution_count": 17,
     "metadata": {},
     "output_type": "execute_result"
    }
   ],
   "source": [
    "# Doy valor a una url que tengo preformada (url), defino los nombres de los parámetros (params)\n",
    "# y asigno los valores de los parámetros\n",
    "# Sólo puedo pedir los datos de una estación en un rango de fechas de menos de 5 años\n",
    "# Si quiero más estaciones o un rango de fehas mayor hay que repetir el proceso cambiando\n",
    "# el contenido de values\n",
    "url = urls['estacion_dia'][0]\n",
    "params = ('fechaIniStr', 'fechaFinStr', 'idema') \n",
    "values = ('2022-01-01T00:00:00UTC', '2023-01-01T23:59:59UTC', '7178I')\n",
    "\n",
    "for par, value in zip(params, values):\n",
    "    url = url.replace(par, value) \n",
    "\n",
    "print(url)\n",
    "\n",
    "response = requests.request(\"GET\", url, headers=headers, params=querystring)\n",
    "response_json = response.json()\n",
    "response_json"
   ]
  },
  {
   "cell_type": "code",
   "execution_count": 18,
   "id": "f0101762-225a-4e30-b2f0-1864c752788a",
   "metadata": {},
   "outputs": [
    {
     "data": {
      "text/html": [
       "<div>\n",
       "<style scoped>\n",
       "    .dataframe tbody tr th:only-of-type {\n",
       "        vertical-align: middle;\n",
       "    }\n",
       "\n",
       "    .dataframe tbody tr th {\n",
       "        vertical-align: top;\n",
       "    }\n",
       "\n",
       "    .dataframe thead th {\n",
       "        text-align: right;\n",
       "    }\n",
       "</style>\n",
       "<table border=\"1\" class=\"dataframe\">\n",
       "  <thead>\n",
       "    <tr style=\"text-align: right;\">\n",
       "      <th></th>\n",
       "      <th>fecha</th>\n",
       "      <th>indicativo</th>\n",
       "      <th>nombre</th>\n",
       "      <th>provincia</th>\n",
       "      <th>altitud</th>\n",
       "      <th>tmed</th>\n",
       "      <th>prec</th>\n",
       "      <th>tmin</th>\n",
       "      <th>horatmin</th>\n",
       "      <th>tmax</th>\n",
       "      <th>horatmax</th>\n",
       "      <th>dir</th>\n",
       "      <th>velmedia</th>\n",
       "      <th>racha</th>\n",
       "      <th>horaracha</th>\n",
       "      <th>sol</th>\n",
       "      <th>presMax</th>\n",
       "      <th>horaPresMax</th>\n",
       "      <th>presMin</th>\n",
       "      <th>horaPresMin</th>\n",
       "    </tr>\n",
       "  </thead>\n",
       "  <tbody>\n",
       "    <tr>\n",
       "      <th>0</th>\n",
       "      <td>2022-01-01</td>\n",
       "      <td>7178I</td>\n",
       "      <td>MURCIA</td>\n",
       "      <td>MURCIA</td>\n",
       "      <td>62</td>\n",
       "      <td>13,2</td>\n",
       "      <td>0,0</td>\n",
       "      <td>2,9</td>\n",
       "      <td>07:40</td>\n",
       "      <td>23,5</td>\n",
       "      <td>15:10</td>\n",
       "      <td>30.0</td>\n",
       "      <td>0,8</td>\n",
       "      <td>3,9</td>\n",
       "      <td>08:10</td>\n",
       "      <td>8,6</td>\n",
       "      <td>1022,7</td>\n",
       "      <td>Varias</td>\n",
       "      <td>1019,2</td>\n",
       "      <td>15</td>\n",
       "    </tr>\n",
       "    <tr>\n",
       "      <th>1</th>\n",
       "      <td>2022-01-02</td>\n",
       "      <td>7178I</td>\n",
       "      <td>MURCIA</td>\n",
       "      <td>MURCIA</td>\n",
       "      <td>62</td>\n",
       "      <td>13,0</td>\n",
       "      <td>0,0</td>\n",
       "      <td>3,5</td>\n",
       "      <td>07:10</td>\n",
       "      <td>22,6</td>\n",
       "      <td>15:20</td>\n",
       "      <td>30.0</td>\n",
       "      <td>1,1</td>\n",
       "      <td>3,6</td>\n",
       "      <td>22:20</td>\n",
       "      <td>8,0</td>\n",
       "      <td>1022,7</td>\n",
       "      <td>10</td>\n",
       "      <td>1018,9</td>\n",
       "      <td>15</td>\n",
       "    </tr>\n",
       "    <tr>\n",
       "      <th>2</th>\n",
       "      <td>2022-01-03</td>\n",
       "      <td>7178I</td>\n",
       "      <td>MURCIA</td>\n",
       "      <td>MURCIA</td>\n",
       "      <td>62</td>\n",
       "      <td>12,2</td>\n",
       "      <td>0,0</td>\n",
       "      <td>2,1</td>\n",
       "      <td>07:10</td>\n",
       "      <td>22,4</td>\n",
       "      <td>15:40</td>\n",
       "      <td>23.0</td>\n",
       "      <td>0,8</td>\n",
       "      <td>4,2</td>\n",
       "      <td>19:30</td>\n",
       "      <td>8,7</td>\n",
       "      <td>1020,5</td>\n",
       "      <td>00</td>\n",
       "      <td>1013,9</td>\n",
       "      <td>24</td>\n",
       "    </tr>\n",
       "    <tr>\n",
       "      <th>3</th>\n",
       "      <td>2022-01-04</td>\n",
       "      <td>7178I</td>\n",
       "      <td>MURCIA</td>\n",
       "      <td>MURCIA</td>\n",
       "      <td>62</td>\n",
       "      <td>13,8</td>\n",
       "      <td>0,0</td>\n",
       "      <td>4,3</td>\n",
       "      <td>04:10</td>\n",
       "      <td>23,3</td>\n",
       "      <td>14:30</td>\n",
       "      <td>29.0</td>\n",
       "      <td>1,4</td>\n",
       "      <td>10,8</td>\n",
       "      <td>20:30</td>\n",
       "      <td>8,5</td>\n",
       "      <td>1013,9</td>\n",
       "      <td>00</td>\n",
       "      <td>1002,5</td>\n",
       "      <td>16</td>\n",
       "    </tr>\n",
       "    <tr>\n",
       "      <th>4</th>\n",
       "      <td>2022-01-05</td>\n",
       "      <td>7178I</td>\n",
       "      <td>MURCIA</td>\n",
       "      <td>MURCIA</td>\n",
       "      <td>62</td>\n",
       "      <td>13,2</td>\n",
       "      <td>0,0</td>\n",
       "      <td>10,1</td>\n",
       "      <td>23:59</td>\n",
       "      <td>16,2</td>\n",
       "      <td>14:30</td>\n",
       "      <td>28.0</td>\n",
       "      <td>4,7</td>\n",
       "      <td>15,8</td>\n",
       "      <td>02:20</td>\n",
       "      <td>5,5</td>\n",
       "      <td>1011,8</td>\n",
       "      <td>10</td>\n",
       "      <td>1006,6</td>\n",
       "      <td>02</td>\n",
       "    </tr>\n",
       "  </tbody>\n",
       "</table>\n",
       "</div>"
      ],
      "text/plain": [
       "        fecha indicativo  nombre provincia  altitud  tmed prec  tmin horatmin  \\\n",
       "0  2022-01-01      7178I  MURCIA    MURCIA       62  13,2  0,0   2,9    07:40   \n",
       "1  2022-01-02      7178I  MURCIA    MURCIA       62  13,0  0,0   3,5    07:10   \n",
       "2  2022-01-03      7178I  MURCIA    MURCIA       62  12,2  0,0   2,1    07:10   \n",
       "3  2022-01-04      7178I  MURCIA    MURCIA       62  13,8  0,0   4,3    04:10   \n",
       "4  2022-01-05      7178I  MURCIA    MURCIA       62  13,2  0,0  10,1    23:59   \n",
       "\n",
       "   tmax horatmax   dir velmedia racha horaracha  sol presMax horaPresMax  \\\n",
       "0  23,5    15:10  30.0      0,8   3,9     08:10  8,6  1022,7      Varias   \n",
       "1  22,6    15:20  30.0      1,1   3,6     22:20  8,0  1022,7          10   \n",
       "2  22,4    15:40  23.0      0,8   4,2     19:30  8,7  1020,5          00   \n",
       "3  23,3    14:30  29.0      1,4  10,8     20:30  8,5  1013,9          00   \n",
       "4  16,2    14:30  28.0      4,7  15,8     02:20  5,5  1011,8          10   \n",
       "\n",
       "  presMin horaPresMin  \n",
       "0  1019,2          15  \n",
       "1  1018,9          15  \n",
       "2  1013,9          24  \n",
       "3  1002,5          16  \n",
       "4  1006,6          02  "
      ]
     },
     "execution_count": 18,
     "metadata": {},
     "output_type": "execute_result"
    }
   ],
   "source": [
    "# Igual que antes: si la respuesta tiene éxito puedo descargar los datos\n",
    "df = pd.read_json(response_json[\"datos\"], encoding='latin-1')\n",
    "df.head()"
   ]
  },
  {
   "cell_type": "code",
   "execution_count": 19,
   "id": "a314b8fb-a2f2-4b57-b099-e09fe72bb4d3",
   "metadata": {},
   "outputs": [
    {
     "data": {
      "text/html": [
       "<div>\n",
       "<style scoped>\n",
       "    .dataframe tbody tr th:only-of-type {\n",
       "        vertical-align: middle;\n",
       "    }\n",
       "\n",
       "    .dataframe tbody tr th {\n",
       "        vertical-align: top;\n",
       "    }\n",
       "\n",
       "    .dataframe thead th {\n",
       "        text-align: right;\n",
       "    }\n",
       "</style>\n",
       "<table border=\"1\" class=\"dataframe\">\n",
       "  <thead>\n",
       "    <tr style=\"text-align: right;\">\n",
       "      <th></th>\n",
       "      <th>unidad_generadora</th>\n",
       "      <th>periodicidad</th>\n",
       "      <th>descripcion</th>\n",
       "      <th>formato</th>\n",
       "      <th>copyright</th>\n",
       "      <th>notaLegal</th>\n",
       "      <th>campos</th>\n",
       "    </tr>\n",
       "  </thead>\n",
       "  <tbody>\n",
       "    <tr>\n",
       "      <th>0</th>\n",
       "      <td>Servicio del Banco Nacional de Datos Climatoló...</td>\n",
       "      <td>1 vez al día, con un retardo de 4 días</td>\n",
       "      <td>Climatologías diarias</td>\n",
       "      <td>application/json</td>\n",
       "      <td>© AEMET. Autorizado el uso de la información y...</td>\n",
       "      <td>https://www.aemet.es/es/nota_legal</td>\n",
       "      <td>{'id': 'fecha', 'descripcion': 'fecha del dia ...</td>\n",
       "    </tr>\n",
       "    <tr>\n",
       "      <th>1</th>\n",
       "      <td>Servicio del Banco Nacional de Datos Climatoló...</td>\n",
       "      <td>1 vez al día, con un retardo de 4 días</td>\n",
       "      <td>Climatologías diarias</td>\n",
       "      <td>application/json</td>\n",
       "      <td>© AEMET. Autorizado el uso de la información y...</td>\n",
       "      <td>https://www.aemet.es/es/nota_legal</td>\n",
       "      <td>{'id': 'indicativo', 'descripcion': 'indicativ...</td>\n",
       "    </tr>\n",
       "    <tr>\n",
       "      <th>2</th>\n",
       "      <td>Servicio del Banco Nacional de Datos Climatoló...</td>\n",
       "      <td>1 vez al día, con un retardo de 4 días</td>\n",
       "      <td>Climatologías diarias</td>\n",
       "      <td>application/json</td>\n",
       "      <td>© AEMET. Autorizado el uso de la información y...</td>\n",
       "      <td>https://www.aemet.es/es/nota_legal</td>\n",
       "      <td>{'id': 'nombre', 'descripcion': 'nombre (ubica...</td>\n",
       "    </tr>\n",
       "    <tr>\n",
       "      <th>3</th>\n",
       "      <td>Servicio del Banco Nacional de Datos Climatoló...</td>\n",
       "      <td>1 vez al día, con un retardo de 4 días</td>\n",
       "      <td>Climatologías diarias</td>\n",
       "      <td>application/json</td>\n",
       "      <td>© AEMET. Autorizado el uso de la información y...</td>\n",
       "      <td>https://www.aemet.es/es/nota_legal</td>\n",
       "      <td>{'id': 'provincia', 'descripcion': 'provincia ...</td>\n",
       "    </tr>\n",
       "    <tr>\n",
       "      <th>4</th>\n",
       "      <td>Servicio del Banco Nacional de Datos Climatoló...</td>\n",
       "      <td>1 vez al día, con un retardo de 4 días</td>\n",
       "      <td>Climatologías diarias</td>\n",
       "      <td>application/json</td>\n",
       "      <td>© AEMET. Autorizado el uso de la información y...</td>\n",
       "      <td>https://www.aemet.es/es/nota_legal</td>\n",
       "      <td>{'id': 'altitud', 'descripcion': 'altitud de l...</td>\n",
       "    </tr>\n",
       "  </tbody>\n",
       "</table>\n",
       "</div>"
      ],
      "text/plain": [
       "                                   unidad_generadora  \\\n",
       "0  Servicio del Banco Nacional de Datos Climatoló...   \n",
       "1  Servicio del Banco Nacional de Datos Climatoló...   \n",
       "2  Servicio del Banco Nacional de Datos Climatoló...   \n",
       "3  Servicio del Banco Nacional de Datos Climatoló...   \n",
       "4  Servicio del Banco Nacional de Datos Climatoló...   \n",
       "\n",
       "                             periodicidad            descripcion  \\\n",
       "0  1 vez al día, con un retardo de 4 días  Climatologías diarias   \n",
       "1  1 vez al día, con un retardo de 4 días  Climatologías diarias   \n",
       "2  1 vez al día, con un retardo de 4 días  Climatologías diarias   \n",
       "3  1 vez al día, con un retardo de 4 días  Climatologías diarias   \n",
       "4  1 vez al día, con un retardo de 4 días  Climatologías diarias   \n",
       "\n",
       "            formato                                          copyright  \\\n",
       "0  application/json  © AEMET. Autorizado el uso de la información y...   \n",
       "1  application/json  © AEMET. Autorizado el uso de la información y...   \n",
       "2  application/json  © AEMET. Autorizado el uso de la información y...   \n",
       "3  application/json  © AEMET. Autorizado el uso de la información y...   \n",
       "4  application/json  © AEMET. Autorizado el uso de la información y...   \n",
       "\n",
       "                            notaLegal  \\\n",
       "0  https://www.aemet.es/es/nota_legal   \n",
       "1  https://www.aemet.es/es/nota_legal   \n",
       "2  https://www.aemet.es/es/nota_legal   \n",
       "3  https://www.aemet.es/es/nota_legal   \n",
       "4  https://www.aemet.es/es/nota_legal   \n",
       "\n",
       "                                              campos  \n",
       "0  {'id': 'fecha', 'descripcion': 'fecha del dia ...  \n",
       "1  {'id': 'indicativo', 'descripcion': 'indicativ...  \n",
       "2  {'id': 'nombre', 'descripcion': 'nombre (ubica...  \n",
       "3  {'id': 'provincia', 'descripcion': 'provincia ...  \n",
       "4  {'id': 'altitud', 'descripcion': 'altitud de l...  "
      ]
     },
     "execution_count": 19,
     "metadata": {},
     "output_type": "execute_result"
    }
   ],
   "source": [
    "# y los metadatos\n",
    "df_meta = pd.read_json(response_json[\"metadatos\"], encoding='latin-1')\n",
    "df_meta.head()"
   ]
  },
  {
   "cell_type": "code",
   "execution_count": 20,
   "id": "eff1536b-728f-4c87-b822-344f81cfaa67",
   "metadata": {},
   "outputs": [],
   "source": [
    "# y salvar los datos y/o los metadatos a fichero en formato csv\n",
    "fo = '.\\download\\murcia_dia.csv'\n",
    "df.to_csv(fo, index=False)"
   ]
  },
  {
   "cell_type": "markdown",
   "id": "814001c3-d3c6-400f-ab6d-7a943c8ccd4d",
   "metadata": {},
   "source": [
    "## 2.- TUTORIAL DE USO DEL MÓDULO aemet_open_data\n",
    "El módulo tiene utilidad sobre todo en los siguientes casos:\n",
    "* Necesitamos pedir datos de varias estaciones\n",
    "* El periodo de datos que necesitamos excede el establecido por Aemet para una petición\n",
    "\n",
    "Es decir, cuando necesitamos datos de una o más estaciones y en periodos de más de 5 años para los datos diarios o 36 meses para datos mensuales.\n",
    "\n",
    "En estos casos su utilización nos permite no tener que escribir varias veces la url con las peticiones y salvar cada una a un fichero; el módulo lo hace por nosotros.\n",
    "\n",
    "Lo primero que hay que hacer son las importaciones (recuerda que tienes que haber instalado Pandas):"
   ]
  },
  {
   "cell_type": "code",
   "execution_count": 1,
   "id": "ff1327ef-5d53-4e8d-8319-c875dc65d881",
   "metadata": {},
   "outputs": [],
   "source": [
    "# Lo más simple es tener el notebook en el directorio donde has guardado el fichero aemet_open_data.py\n",
    "# hay otras técnnicas que no se consideran aquí\n",
    "from datetime import date\n",
    "import inspect\n",
    "import pandas as pd\n",
    "from pathlib import Path\n",
    "\n",
    "from aemet_open_data import AemetOpenData\n",
    "\n",
    "# instanciación de un objeto AemetOpenData\n",
    "# el objeto lee la clave de acceso del fichero apikey.txt\n",
    "# que está situado en el mismo directorio que el notebook y aemet_open_data.py\n",
    "aod = AemetOpenData()"
   ]
  },
  {
   "cell_type": "markdown",
   "id": "110509c2-9faa-44d5-b8f2-321cab2e4d87",
   "metadata": {},
   "source": [
    "A continuación vamos a ver las funciones que podemos utilizar en aod:"
   ]
  },
  {
   "cell_type": "code",
   "execution_count": 2,
   "id": "924024cd-b827-4990-a6b3-8a8bca443e73",
   "metadata": {},
   "outputs": [
    {
     "data": {
      "text/plain": [
       "['concatenate_files',\n",
       " 'daily_ranges_get',\n",
       " 'data_meteo_stations',\n",
       " 'directory_exists',\n",
       " 'file_exists',\n",
       " 'file_names_in_dir',\n",
       " 'get_public_methods',\n",
       " 'meteo_stations',\n",
       " 'years_ranges_get']"
      ]
     },
     "execution_count": 2,
     "metadata": {},
     "output_type": "execute_result"
    }
   ],
   "source": [
    "aod.get_public_methods()"
   ]
  },
  {
   "cell_type": "markdown",
   "id": "739feae6-46c9-43d7-b32b-4744863c0a07",
   "metadata": {},
   "source": [
    "De estas solo vamos a utilizar unas pocas, que son las que utilizamos para descargar los datos\n",
    "### Características de las estaciones en OpenData\n",
    "La función que nos permite descargar ests datos se llama __meteo_stations()__. Vamos a ver la documentación de la función que nos permite descargar las características de las estaciones meteorológicas:"
   ]
  },
  {
   "cell_type": "code",
   "execution_count": 3,
   "id": "4cc3942d-e760-47d4-aea7-2facd4671bcc",
   "metadata": {},
   "outputs": [
    {
     "name": "stdout",
     "output_type": "stream",
     "text": [
      "\n",
      "        Retrieves characteristics of meteorological stations in Aemet\n",
      "            OpenData and saves them to a file\n",
      "\n",
      "        Parameters\n",
      "        ----------\n",
      "        dir_out: The name of the directory where the data file will be saved\n",
      "        metadata: If True only metadata will be saved, otherwise only data\n",
      "        will be saved\n",
      "\n",
      "        Returns\n",
      "        -------\n",
      "        file name with data or metadata\n",
      "        \n"
     ]
    }
   ],
   "source": [
    "# Documentación de la función que vamos a utilizar meteo_stations()\n",
    "print(aod.meteo_stations.__doc__)"
   ]
  },
  {
   "cell_type": "code",
   "execution_count": 4,
   "id": "e57be171-4292-41ac-8bf8-d02ab1574409",
   "metadata": {},
   "outputs": [
    {
     "name": "stdout",
     "output_type": "stream",
     "text": [
      "Parámetros de la función:\n",
      "dir_out: <class 'str'>\n",
      "metadata: <class 'bool'>\n"
     ]
    }
   ],
   "source": [
    "# Parámetros de la función meteo_stations()\n",
    "parameters = inspect.signature(aod.meteo_stations).parameters\n",
    "print(\"Parámetros de la función:\")\n",
    "for name, param in parameters.items():\n",
    "    print(f\"{name}: {param.annotation}\")"
   ]
  },
  {
   "cell_type": "markdown",
   "id": "4e8e9204-1a53-4db0-a41a-7525c6d26749",
   "metadata": {},
   "source": [
    "Vamos a dar __valor a los parámetros y a ejecutar meteo_stations()__:"
   ]
  },
  {
   "cell_type": "code",
   "execution_count": 5,
   "id": "1a48e244-d46b-4afb-a3f7-91e746e9d9ff",
   "metadata": {},
   "outputs": [
    {
     "name": "stdout",
     "output_type": "stream",
     "text": [
      "Downloaded data in estaciones_open_data.csv\n"
     ]
    }
   ],
   "source": [
    "# en dir_out puedes poner cualquier nombre de directorio con permisos de escritura\n",
    "# si trabajas en Windows, pon una r delante, por ej. r'C:\\Users\\user1\\Documents\\tmp'\n",
    "# si no pones la r delante tienes que escribirlo así: 'C:\\\\Users\\\\user1\\\\Documents\\\\tmp'  \n",
    "dir_output = './download'\n",
    "\n",
    "# si metadata es True descarga los metadatos; si es False descarga los datos \n",
    "# prueba a asignar a la variable metadata los valores True o False\n",
    "metadata = False\n",
    "\n",
    "# al hacer la llamada a la función, metadata lo escribimos como metadata = metadata\n",
    "# esto es debido a que el parámetro metadata es opcional y tiene como valor por defecto\n",
    "# True; vamos a escribir siempre todos los parámetros \n",
    "file_name = aod.meteo_stations(dir_output, metadata = metadata)"
   ]
  },
  {
   "cell_type": "markdown",
   "id": "f76ac437-7857-4896-aea7-ebbe9a993622",
   "metadata": {},
   "source": [
    "Si ahora quieres descargar los metadatos, vuelve a ejecutar la celda anterior cambiando metadata con el valor True"
   ]
  },
  {
   "cell_type": "code",
   "execution_count": 6,
   "id": "17eac161-5291-4b5e-8e05-fdc461014e6d",
   "metadata": {},
   "outputs": [
    {
     "data": {
      "text/html": [
       "<div>\n",
       "<style scoped>\n",
       "    .dataframe tbody tr th:only-of-type {\n",
       "        vertical-align: middle;\n",
       "    }\n",
       "\n",
       "    .dataframe tbody tr th {\n",
       "        vertical-align: top;\n",
       "    }\n",
       "\n",
       "    .dataframe thead th {\n",
       "        text-align: right;\n",
       "    }\n",
       "</style>\n",
       "<table border=\"1\" class=\"dataframe\">\n",
       "  <thead>\n",
       "    <tr style=\"text-align: right;\">\n",
       "      <th></th>\n",
       "      <th>latitud</th>\n",
       "      <th>provincia</th>\n",
       "      <th>altitud</th>\n",
       "      <th>indicativo</th>\n",
       "      <th>nombre</th>\n",
       "      <th>indsinop</th>\n",
       "      <th>longitud</th>\n",
       "    </tr>\n",
       "  </thead>\n",
       "  <tbody>\n",
       "    <tr>\n",
       "      <th>0</th>\n",
       "      <td>413515N</td>\n",
       "      <td>BARCELONA</td>\n",
       "      <td>74</td>\n",
       "      <td>0252D</td>\n",
       "      <td>ARENYS DE MAR</td>\n",
       "      <td>8186.0</td>\n",
       "      <td>023224E</td>\n",
       "    </tr>\n",
       "    <tr>\n",
       "      <th>1</th>\n",
       "      <td>411734N</td>\n",
       "      <td>BARCELONA</td>\n",
       "      <td>4</td>\n",
       "      <td>0076</td>\n",
       "      <td>BARCELONA AEROPUERTO</td>\n",
       "      <td>8181.0</td>\n",
       "      <td>020412E</td>\n",
       "    </tr>\n",
       "    <tr>\n",
       "      <th>2</th>\n",
       "      <td>412506N</td>\n",
       "      <td>BARCELONA</td>\n",
       "      <td>408</td>\n",
       "      <td>0200E</td>\n",
       "      <td>BARCELONA, FABRA</td>\n",
       "      <td>NaN</td>\n",
       "      <td>020727E</td>\n",
       "    </tr>\n",
       "    <tr>\n",
       "      <th>3</th>\n",
       "      <td>412326N</td>\n",
       "      <td>BARCELONA</td>\n",
       "      <td>6</td>\n",
       "      <td>0201D</td>\n",
       "      <td>BARCELONA</td>\n",
       "      <td>8180.0</td>\n",
       "      <td>021200E</td>\n",
       "    </tr>\n",
       "    <tr>\n",
       "      <th>4</th>\n",
       "      <td>414312N</td>\n",
       "      <td>BARCELONA</td>\n",
       "      <td>291</td>\n",
       "      <td>0149X</td>\n",
       "      <td>MANRESA</td>\n",
       "      <td>8174.0</td>\n",
       "      <td>015025E</td>\n",
       "    </tr>\n",
       "  </tbody>\n",
       "</table>\n",
       "</div>"
      ],
      "text/plain": [
       "   latitud  provincia  altitud indicativo                nombre  indsinop  \\\n",
       "0  413515N  BARCELONA       74      0252D         ARENYS DE MAR    8186.0   \n",
       "1  411734N  BARCELONA        4       0076  BARCELONA AEROPUERTO    8181.0   \n",
       "2  412506N  BARCELONA      408      0200E      BARCELONA, FABRA       NaN   \n",
       "3  412326N  BARCELONA        6      0201D             BARCELONA    8180.0   \n",
       "4  414312N  BARCELONA      291      0149X               MANRESA    8174.0   \n",
       "\n",
       "  longitud  \n",
       "0  023224E  \n",
       "1  020412E  \n",
       "2  020727E  \n",
       "3  021200E  \n",
       "4  015025E  "
      ]
     },
     "execution_count": 6,
     "metadata": {},
     "output_type": "execute_result"
    }
   ],
   "source": [
    "# Para ver los datos descargados puedes utilizar un programa que abra ficheros csv,\n",
    "# por ejemplo un editor de texto plano, Excel, Calc u otros.\n",
    "# Desde este notebook podemos utilizar la siguiente instrucción\n",
    "f = Path(dir_output).joinpath(file_name)\n",
    "df = pd.read_csv(f)\n",
    "# vemos las 5 primeras líneas\n",
    "df.head()\n",
    "# para ver las 5 últimas escribimos df.tail()\n",
    "# se puede ver el fichero entero, pero no nos distraemos con esto"
   ]
  },
  {
   "cell_type": "markdown",
   "id": "83aa4716-5907-4c06-a33a-e1bd5e3c7468",
   "metadata": {},
   "source": [
    "### Datos climatológicos diarios o mensuales\n",
    "La descarga de los datos climatológicos diarios o mensuales es lo que principalmente justifica la utilitilización del módulo. Se realiza llamando a la función __data_meteo_stations()__\n",
    "\n",
    "Al igual que la función anterior, vamos a ver la documentación de la función y los parámetros que utiliza"
   ]
  },
  {
   "cell_type": "code",
   "execution_count": 7,
   "id": "cf96f631-6fd2-4ee1-a77d-40b49b79676c",
   "metadata": {},
   "outputs": [
    {
     "name": "stdout",
     "output_type": "stream",
     "text": [
      "\n",
      "        Retrieves daily or monthly climatological data from Aemet OpenData\n",
      "            server.\n",
      "\n",
      "        Parameters\n",
      "        ----------\n",
      "        var_type : day for daily variables, month for monthly ones\n",
      "        d1 : Initial date (daily data) or year (monthly data)\n",
      "        d2 : Final date or year. Equal d1\n",
      "        estaciones : List of stations or only one station as str\n",
      "        dir_out : Each request to Aemet server is saved as a csv file in the\n",
      "            directory dir_out        \n",
      "        metadata: If True only metadata are downloaded, otherwise only data\n",
      "            are downloaded\n",
      "        verbose: If True shows detailed information of results request in the\n",
      "            screen\n",
      "        use_files : If True checks that the file name already exists in dir_out\n",
      "            and does not make the request to the server; otherwise the request\n",
      "            is made and the pre-existing file is overwritten.\n",
      "        Returns\n",
      "        -------\n",
      "        [] with the the names of saved csv files. Each file has a subset of\n",
      "            all data downloaded\n",
      "        \n"
     ]
    }
   ],
   "source": [
    "# Documentación de la función que vamos a utilizar data_meteo_stations()\n",
    "print(aod.data_meteo_stations.__doc__)"
   ]
  },
  {
   "cell_type": "code",
   "execution_count": 8,
   "id": "75acad9d-2ddc-4c4f-bf4d-ff8e6691aa25",
   "metadata": {},
   "outputs": [
    {
     "name": "stdout",
     "output_type": "stream",
     "text": [
      "Parámetros de la función:\n",
      "var_type: <class 'str'>\n",
      "d1: <class 'datetime.date'>\n",
      "d2: <class 'datetime.date'>\n",
      "estaciones: typing.Union[tuple[str], list[str], str]\n",
      "dir_out: <class 'str'>\n",
      "metadata: <class 'bool'>\n",
      "verbose: <class 'bool'>\n",
      "use_files: <class 'bool'>\n"
     ]
    }
   ],
   "source": [
    "# Parámetros de data_meteo_stations()\n",
    "parameters = inspect.signature(aod.data_meteo_stations).parameters\n",
    "print(\"Parámetros de la función:\")\n",
    "for name, param in parameters.items():\n",
    "    print(f\"{name}: {param.annotation}\")"
   ]
  },
  {
   "cell_type": "markdown",
   "id": "64329e17-1c25-4c4d-a2e8-63317a0118de",
   "metadata": {},
   "source": [
    "A continuación vamos a __asignar valores a los parámetros__:"
   ]
  },
  {
   "cell_type": "code",
   "execution_count": 2,
   "id": "a635f3c2-877e-4b4d-be7f-45eb877ff4a9",
   "metadata": {},
   "outputs": [],
   "source": [
    "# Puede valer 'day' para descargar datos diarios o 'month' para datos mensuales\n",
    "var_type = 'day'\n",
    "\n",
    "# A continuación definimos el rango de fechas en que queremos descaragr los datos\n",
    "# lo hacemos definiendo 2 fechas, una incicial y otra final\n",
    "# estas fechas las construimos con la función date(AAAA, MM, DD), en la que\n",
    "# (AAAA, MM, DD) representan el (año, mes, día) como números\n",
    "d1 = date(2000, 1, 1)\n",
    "d2 = date(2023, 1, 1)\n",
    "\n",
    "# Listado de estaciones; el código de la estación lo tomamos de las características\n",
    "# de las estaciones que ya hemos descargado\n",
    "estaciones = ('7178I', '7002Y')\n",
    "\n",
    "# Ruta al directorio donde vamos a descargar los datos\n",
    "# (recuerda las observaciones sobre cómo se escriben los separadores de directorios\n",
    "# en Windows que hemos visto anteriormente)\n",
    "dir_output = './download'\n",
    "\n",
    "# si metadata es True descarga los metadatos; si es False descarga los datos \n",
    "metadata = False\n",
    "\n",
    "# Si True aparece una descripción más completa en pantalla de cada petición que si\n",
    "# es False\n",
    "verbose = True\n",
    "\n",
    "# El programa salva los resultados de cada petición al servidor en un fichero.\n",
    "# Si para descargar los datos que necesitamos es necesario realizar muchas peticiones\n",
    "# al servidor y el proceso se interrumpe, al iniciar el proceso otra vez, la descarga\n",
    "# no se realiza si los datos ya se han descargado (use_files = True); mientras si\n",
    "# use_files = False, los datos se vuelven a descargar y se sobreescriben los ficheros\n",
    "# existentes\n",
    "use_files = True\n",
    "\n",
    "# Para que use_files = True proceda como se espera no podemos cambiar el intervalo temporal\n",
    "# de la petición, pues si lo hacemos los datos se descargarán con otros nombres de ficheros\n",
    "# y la utilidad del parámetro se perderá al no encontrar ficheros descargados con el \n",
    "# mismo nombre"
   ]
  },
  {
   "cell_type": "markdown",
   "id": "9aca5627-49be-4c1d-a915-3d274385922e",
   "metadata": {},
   "source": [
    "Y a continuación __ejecutamos data_meteo_stations()__:"
   ]
  },
  {
   "cell_type": "code",
   "execution_count": 11,
   "id": "110b8c02-3f4d-4533-999a-467351682cef",
   "metadata": {},
   "outputs": [
    {
     "name": "stdout",
     "output_type": "stream",
     "text": [
      "7178I, 2000-01-01T00:00:00UTC, 2004-12-30T23:59:59UTC: 200, OK exito\n",
      "7178I, 2004-12-31T00:00:00UTC, 2009-12-30T23:59:59UTC: 200, OK exito\n",
      "7178I, 2009-12-31T00:00:00UTC, 2014-12-30T23:59:59UTC: 200, OK exito\n",
      "7178I, 2014-12-31T00:00:00UTC, 2019-12-30T23:59:59UTC: 200, OK exito\n",
      "7178I, 2019-12-31T00:00:00UTC, 2023-01-01T23:59:59UTC: 200, OK exito\n",
      "7002Y, 2000-01-01T00:00:00UTC, 2004-12-30T23:59:59UTC: 200, OK No hay datos que satisfagan esos criterios\n",
      "7002Y, 2004-12-31T00:00:00UTC, 2009-12-30T23:59:59UTC: 200, OK exito\n",
      "7002Y, 2009-12-31T00:00:00UTC, 2014-12-30T23:59:59UTC: 200, OK exito\n",
      "7002Y, 2014-12-31T00:00:00UTC, 2019-12-30T23:59:59UTC: 200, OK exito\n",
      "7002Y, 2019-12-31T00:00:00UTC, 2023-01-01T23:59:59UTC: 200, OK exito\n",
      "\n",
      "Ficheros descargados\n",
      "['7178I_20000101T000000UTC_20041230T235959UTC.csv', '7178I_20041231T000000UTC_20091230T235959UTC.csv', '7178I_20091231T000000UTC_20141230T235959UTC.csv', '7178I_20141231T000000UTC_20191230T235959UTC.csv', '7178I_20191231T000000UTC_20230101T235959UTC.csv', '7002Y_20041231T000000UTC_20091230T235959UTC.csv', '7002Y_20091231T000000UTC_20141230T235959UTC.csv', '7002Y_20141231T000000UTC_20191230T235959UTC.csv', '7002Y_20191231T000000UTC_20230101T235959UTC.csv']\n"
     ]
    }
   ],
   "source": [
    "# En la llamada a la función hay algunos parámetros que se asignan en la forma\n",
    "# nombre de parámetro = variable (en este caso se han hecho coincidir); son parámetros\n",
    "# opcionales que tienen valores por defecto y en lo que no nos extendemos para no alargar.\n",
    "file_names = aod.data_meteo_stations(var_type, d1, d2, estaciones, dir_output, \n",
    "                                     metadata = metadata, verbose = verbose,\n",
    "                                     use_files = use_files)\n",
    "print('\\nFicheros descargados')\n",
    "print(file_names)"
   ]
  },
  {
   "cell_type": "markdown",
   "id": "9ab5204b-d4c0-4a45-b609-397cb5e9bb81",
   "metadata": {},
   "source": [
    "El resultado en el ejemplo muestra que todas las peticiones internas al servidor de datos ya se habían realizado y grabado los resultados en los ficheros csv indicados; hay una petición que no encuentra datos; en este caso es debido a que en el rango de fechas de la primera petición la estación no tiene datos.<br>\n",
    "Si a continuación vuelves a ejecutar data_meteo_stations(), verás que los ficheros ya descargados no se viuelven a descargar (hasta que no los eliminer de dir_output).<br>  \n",
    "Tomando como base este ejemplo, puedes volver a la celda donde se dan valor a los parámetros y a continuación ejecutar otra vez data_meteo_stations() con tus valores. \n",
    "\n",
    "Para ver los ficheros desde este notebook usamos Pandas (o desde fuera Excel, Calc, etc.)."
   ]
  },
  {
   "cell_type": "code",
   "execution_count": 13,
   "id": "f2d58443-a9ea-48d8-b41c-da84e9611603",
   "metadata": {},
   "outputs": [
    {
     "data": {
      "text/html": [
       "<div>\n",
       "<style scoped>\n",
       "    .dataframe tbody tr th:only-of-type {\n",
       "        vertical-align: middle;\n",
       "    }\n",
       "\n",
       "    .dataframe tbody tr th {\n",
       "        vertical-align: top;\n",
       "    }\n",
       "\n",
       "    .dataframe thead th {\n",
       "        text-align: right;\n",
       "    }\n",
       "</style>\n",
       "<table border=\"1\" class=\"dataframe\">\n",
       "  <thead>\n",
       "    <tr style=\"text-align: right;\">\n",
       "      <th></th>\n",
       "      <th>fecha</th>\n",
       "      <th>indicativo</th>\n",
       "      <th>nombre</th>\n",
       "      <th>provincia</th>\n",
       "      <th>altitud</th>\n",
       "      <th>tmed</th>\n",
       "      <th>prec</th>\n",
       "      <th>tmin</th>\n",
       "      <th>horatmin</th>\n",
       "      <th>tmax</th>\n",
       "      <th>horatmax</th>\n",
       "      <th>dir</th>\n",
       "      <th>velmedia</th>\n",
       "      <th>racha</th>\n",
       "      <th>horaracha</th>\n",
       "      <th>sol</th>\n",
       "      <th>presMax</th>\n",
       "      <th>horaPresMax</th>\n",
       "      <th>presMin</th>\n",
       "      <th>horaPresMin</th>\n",
       "    </tr>\n",
       "  </thead>\n",
       "  <tbody>\n",
       "    <tr>\n",
       "      <th>0</th>\n",
       "      <td>2004-12-31</td>\n",
       "      <td>7178I</td>\n",
       "      <td>MURCIA</td>\n",
       "      <td>MURCIA</td>\n",
       "      <td>62</td>\n",
       "      <td>9.4</td>\n",
       "      <td>0,0</td>\n",
       "      <td>0.7</td>\n",
       "      <td>05:00</td>\n",
       "      <td>18.0</td>\n",
       "      <td>15:10</td>\n",
       "      <td>28.0</td>\n",
       "      <td>1.1</td>\n",
       "      <td>4.2</td>\n",
       "      <td>21:35</td>\n",
       "      <td>9.1</td>\n",
       "      <td>1024.8</td>\n",
       "      <td>00</td>\n",
       "      <td>1021.6</td>\n",
       "      <td>15</td>\n",
       "    </tr>\n",
       "    <tr>\n",
       "      <th>1</th>\n",
       "      <td>2005-01-01</td>\n",
       "      <td>7178I</td>\n",
       "      <td>MURCIA</td>\n",
       "      <td>MURCIA</td>\n",
       "      <td>62</td>\n",
       "      <td>10.6</td>\n",
       "      <td>0,0</td>\n",
       "      <td>2.6</td>\n",
       "      <td>06:40</td>\n",
       "      <td>18.6</td>\n",
       "      <td>15:30</td>\n",
       "      <td>25.0</td>\n",
       "      <td>1.4</td>\n",
       "      <td>5.0</td>\n",
       "      <td>10:45</td>\n",
       "      <td>9.2</td>\n",
       "      <td>1024.3</td>\n",
       "      <td>24</td>\n",
       "      <td>1021.6</td>\n",
       "      <td>Varias</td>\n",
       "    </tr>\n",
       "    <tr>\n",
       "      <th>2</th>\n",
       "      <td>2005-01-02</td>\n",
       "      <td>7178I</td>\n",
       "      <td>MURCIA</td>\n",
       "      <td>MURCIA</td>\n",
       "      <td>62</td>\n",
       "      <td>11.5</td>\n",
       "      <td>0,0</td>\n",
       "      <td>3.4</td>\n",
       "      <td>05:00</td>\n",
       "      <td>19.6</td>\n",
       "      <td>14:15</td>\n",
       "      <td>5.0</td>\n",
       "      <td>1.9</td>\n",
       "      <td>6.4</td>\n",
       "      <td>16:19</td>\n",
       "      <td>7.8</td>\n",
       "      <td>1026.3</td>\n",
       "      <td>24</td>\n",
       "      <td>1023.6</td>\n",
       "      <td>15</td>\n",
       "    </tr>\n",
       "    <tr>\n",
       "      <th>3</th>\n",
       "      <td>2005-01-03</td>\n",
       "      <td>7178I</td>\n",
       "      <td>MURCIA</td>\n",
       "      <td>MURCIA</td>\n",
       "      <td>62</td>\n",
       "      <td>8.6</td>\n",
       "      <td>2,9</td>\n",
       "      <td>2.2</td>\n",
       "      <td>06:30</td>\n",
       "      <td>15.0</td>\n",
       "      <td>16:10</td>\n",
       "      <td>4.0</td>\n",
       "      <td>1.1</td>\n",
       "      <td>5.0</td>\n",
       "      <td>13:40</td>\n",
       "      <td>3.0</td>\n",
       "      <td>1030.3</td>\n",
       "      <td>21</td>\n",
       "      <td>1026.3</td>\n",
       "      <td>Varias</td>\n",
       "    </tr>\n",
       "    <tr>\n",
       "      <th>4</th>\n",
       "      <td>2005-01-04</td>\n",
       "      <td>7178I</td>\n",
       "      <td>MURCIA</td>\n",
       "      <td>MURCIA</td>\n",
       "      <td>62</td>\n",
       "      <td>11.2</td>\n",
       "      <td>0,0</td>\n",
       "      <td>6.2</td>\n",
       "      <td>23:59</td>\n",
       "      <td>16.2</td>\n",
       "      <td>14:00</td>\n",
       "      <td>31.0</td>\n",
       "      <td>0.8</td>\n",
       "      <td>4.7</td>\n",
       "      <td>03:02</td>\n",
       "      <td>7.2</td>\n",
       "      <td>1031.6</td>\n",
       "      <td>11</td>\n",
       "      <td>1028.4</td>\n",
       "      <td>16</td>\n",
       "    </tr>\n",
       "  </tbody>\n",
       "</table>\n",
       "</div>"
      ],
      "text/plain": [
       "        fecha indicativo  nombre provincia  altitud  tmed prec  tmin horatmin  \\\n",
       "0  2004-12-31      7178I  MURCIA    MURCIA       62   9.4  0,0   0.7    05:00   \n",
       "1  2005-01-01      7178I  MURCIA    MURCIA       62  10.6  0,0   2.6    06:40   \n",
       "2  2005-01-02      7178I  MURCIA    MURCIA       62  11.5  0,0   3.4    05:00   \n",
       "3  2005-01-03      7178I  MURCIA    MURCIA       62   8.6  2,9   2.2    06:30   \n",
       "4  2005-01-04      7178I  MURCIA    MURCIA       62  11.2  0,0   6.2    23:59   \n",
       "\n",
       "   tmax horatmax   dir  velmedia  racha horaracha  sol  presMax horaPresMax  \\\n",
       "0  18.0    15:10  28.0       1.1    4.2     21:35  9.1   1024.8          00   \n",
       "1  18.6    15:30  25.0       1.4    5.0     10:45  9.2   1024.3          24   \n",
       "2  19.6    14:15   5.0       1.9    6.4     16:19  7.8   1026.3          24   \n",
       "3  15.0    16:10   4.0       1.1    5.0     13:40  3.0   1030.3          21   \n",
       "4  16.2    14:00  31.0       0.8    4.7     03:02  7.2   1031.6          11   \n",
       "\n",
       "   presMin horaPresMin  \n",
       "0   1021.6          15  \n",
       "1   1021.6      Varias  \n",
       "2   1023.6          15  \n",
       "3   1026.3      Varias  \n",
       "4   1028.4          16  "
      ]
     },
     "execution_count": 13,
     "metadata": {},
     "output_type": "execute_result"
    }
   ],
   "source": [
    "# Para ver uno de los ficheros\n",
    "f_ver = '7178I_20041231T000000UTC_20091230T235959UTC.csv'\n",
    "f = Path(dir_output).joinpath(f_ver)\n",
    "df = pd.read_csv(f, decimal=',')\n",
    "# vemos las 5 primeras líneas\n",
    "df.head()"
   ]
  },
  {
   "cell_type": "markdown",
   "id": "afd880fd-476f-461c-9fc4-d089ab542ab9",
   "metadata": {},
   "source": [
    "Si te fijas en la instrucción read_csv, hemos incluido el parámetro decimal con valor ','. Esto es debido a que los datos con números reales, Aemet los sirve con separador de decimal ','. El visualizador que hemos utilizado trabaja con números reales con separador '.' y con esta indicación entiende entonces los datos como números reales y los representa con el separador '.'.<br>\n",
    "Sin embargo, observarás que la columna __prec__ no se ha realizado esta conversión; esto es debido que hay valores que no pueden ser convertidos a números porque incluyen caracteres no numéricos que deben ser adaptados para poder tratar la columna como numérica. <br>\n",
    "En resumen, __tenemos que posprocesar los datos descargados__.\n"
   ]
  },
  {
   "cell_type": "markdown",
   "id": "dd499a14-54da-4cb2-b648-6443c754f453",
   "metadata": {},
   "source": [
    "### Unir los ficheros descargados en uno solo\n",
    "En ocasiones, el número de ficheros descargados es elevado. En vez de ir abriéndolos y copiando el contenido en otro, podemos utilizar la función __concatenate_files()__ "
   ]
  },
  {
   "cell_type": "code",
   "execution_count": 14,
   "id": "54d03118-ca1e-4674-9864-ed1197e86e4b",
   "metadata": {},
   "outputs": [
    {
     "name": "stdout",
     "output_type": "stream",
     "text": [
      "\n",
      "        Concatenates data csv files in dir_name in a new csv file named\n",
      "            file_name; data csv files were daily or monthly data files\n",
      "            saved with the names given in this app; you select the type\n",
      "            of files to be saved by using var_type\n",
      "\n",
      "        Parameters\n",
      "        ----------\n",
      "        var_type: Day for daily variables, month for monthly ones\n",
      "        dir_name: Directory path where the files\n",
      "        files2concat: If len(files2concat) > 0, only concats these files;\n",
      "            otherwise concats the files that match a regex pattern; this\n",
      "            pattern differs depending on var_type\n",
      "        files2exclude: If len(files2concat) == 0 and len(files2exclude) > 0\n",
      "            the files in files2exclude will not be considered\n",
      "        ask_overwrite: If file_name exists, ask before overwrite it\n",
      "        \n",
      "        Returns\n",
      "        -------\n",
      "        List of concatenated csv files\n",
      "        \n"
     ]
    }
   ],
   "source": [
    "# Documentación de la función que vamos a utilizar concatenate_files()\n",
    "print(aod.concatenate_files.__doc__)"
   ]
  },
  {
   "cell_type": "code",
   "execution_count": 15,
   "id": "2627577f-7bf9-4daf-9e44-6aaeb19110b4",
   "metadata": {},
   "outputs": [
    {
     "name": "stdout",
     "output_type": "stream",
     "text": [
      "Parámetros de la función:\n",
      "var_type: <class 'str'>\n",
      "dir_name: <class 'str'>\n",
      "files2concat: [<class 'str'>]\n",
      "files2exclude: [<class 'str'>]\n",
      "ask_overwrite: <class 'bool'>\n"
     ]
    }
   ],
   "source": [
    "# Parámetros de concatenate_files()\n",
    "parameters = inspect.signature(aod.concatenate_files).parameters\n",
    "print(\"Parámetros de la función:\")\n",
    "for name, param in parameters.items():\n",
    "    print(f\"{name}: {param.annotation}\")"
   ]
  },
  {
   "cell_type": "markdown",
   "id": "8df9bf58-7846-45f1-8838-c035b3acd038",
   "metadata": {},
   "source": [
    "A continuación __asignamos los valores de la función concatenate_files()__:"
   ]
  },
  {
   "cell_type": "code",
   "execution_count": 4,
   "id": "1317bd95-325c-46ec-8f75-e330cec293b6",
   "metadata": {},
   "outputs": [],
   "source": [
    "# Los parámetros var_type and dir_name ya les hemos asignado su valor en una celda \n",
    "#  más arriba, por lo que no es necesario definirlos otra vez. No obstante, si vas\n",
    "#  a ejecutar solo este método o por alguna otra razon quieres cambiarlos desde aquí\n",
    "#  tienes que quitar el comentario ('#')a las siguientes 2 líneas y darles el valor \n",
    "#  deseado\n",
    "# var_type = 'day'\n",
    "# dir_output = './download'\n",
    "\n",
    "files2concat = []\n",
    "files2exclude = []\n",
    "ask_overwrite = True"
   ]
  },
  {
   "cell_type": "code",
   "execution_count": 7,
   "id": "da6f1eca-9461-44be-8e91-6aa9dbd3b057",
   "metadata": {},
   "outputs": [
    {
     "name": "stdin",
     "output_type": "stream",
     "text": [
      "File meteo_data_day.csv exists, overwrite? (y/n):  y\n"
     ]
    },
    {
     "name": "stdout",
     "output_type": "stream",
     "text": [
      "Concatenated files:  9\n",
      "['7002Y_20041231T000000UTC_20091230T235959UTC.csv', '7002Y_20091231T000000UTC_20141230T235959UTC.csv', '7002Y_20141231T000000UTC_20191230T235959UTC.csv', '7002Y_20191231T000000UTC_20230101T235959UTC.csv', '7178I_20000101T000000UTC_20041230T235959UTC.csv', '7178I_20041231T000000UTC_20091230T235959UTC.csv', '7178I_20091231T000000UTC_20141230T235959UTC.csv', '7178I_20141231T000000UTC_20191230T235959UTC.csv', '7178I_20191231T000000UTC_20230101T235959UTC.csv']\n"
     ]
    }
   ],
   "source": [
    "# ahora la ejecutamos\n",
    "files = aod.concatenate_files(var_type, dir_output, files2concat, files2exclude, ask_overwrite)\n",
    "print('Concatenated files: ', len(files))\n",
    "print(files)"
   ]
  },
  {
   "cell_type": "markdown",
   "id": "9a98ffcf-9ec6-4538-98eb-b8392a9d7e77",
   "metadata": {},
   "source": [
    "### Utilización del módulo aemet_open_data desde la línea de comandos\n",
    "Una vez que nos hemos familiarizado con el módulo, se puede ejecutar también desde la línea de comandos.<br>\n",
    "Edita el fichero aemet_open_data_parameters.py con un editor de texto plano como NotePad, asigna los valores que deseas a los parámetros y ejecuta el fichero main.py."
   ]
  }
 ],
 "metadata": {
  "kernelspec": {
   "display_name": "Python 3 (ipykernel)",
   "language": "python",
   "name": "python3"
  },
  "language_info": {
   "codemirror_mode": {
    "name": "ipython",
    "version": 3
   },
   "file_extension": ".py",
   "mimetype": "text/x-python",
   "name": "python",
   "nbconvert_exporter": "python",
   "pygments_lexer": "ipython3",
   "version": "3.10.11"
  }
 },
 "nbformat": 4,
 "nbformat_minor": 5
}
