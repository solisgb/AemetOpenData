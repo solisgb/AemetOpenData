{
 "cells": [
  {
   "cell_type": "markdown",
   "id": "ca5c36c8-6f32-4f4c-bdf6-e2f8a49477d0",
   "metadata": {},
   "source": [
    "# Aemet OpenData\n",
    "Aemet makes available to the interested public meteorological data from some of its stations through the OpenData service (https://opendata.aemet.es/centrodedescargas/inicio).\n",
    "\n",
    "In this notebook the aemet_open_data module is used to facilitate the download of meteorological data. Depending on the number of stations requested or the time period of the data, it may be necessary to make several requests to the Aemet server. The result of each request is saved in a CSV file. Once the process is finished, the module includes an utility to join the downloaded files with data of the same type. \n",
    "\n",
    "To start using the service you have to create a free key in (https://opendata.aemet.es/centrodedescargas/inicio) and save it in the apikey.txt file. "
   ]
  },
  {
   "cell_type": "code",
   "execution_count": 1,
   "id": "62f1f8da-6bd2-463f-8962-1ec9cbae08f6",
   "metadata": {},
   "outputs": [],
   "source": [
    "from datetime import date\n",
    "import pandas as pd\n",
    "from pathlib import Path\n",
    "\n",
    "from aemet_open_data import AemetOpenData"
   ]
  },
  {
   "cell_type": "markdown",
   "id": "0ab69dfc-86af-498b-9fd1-31655d9775dc",
   "metadata": {},
   "source": [
    "## User-supplied parameters.\n",
    "The methods used to download data require some values to be supplied by the user. Not all methods require the same parameters.\n",
    "\n",
    "* __Parameters__\n",
    "* d1 (date): Data will be requested between date d1 and date d2; d1 is the start date\n",
    "* d2 (date): Data will be requested between date d1 and date d2; d2 is the end date\n",
    "* dir_path (str): directory path where files will be saved\n",
    "* fetch (str): For a set of variables, controls whether data, metadata or both will be downloaded; a value in ('data', 'metadata' or 'both')\n",
    "* stations (list of str): List of meteorological stations from which data is requested\n",
    "* time_step (str): Temporal resolution of meteorological data to be downloaded: 'day' or 'month'\n",
    "* use_files (bool), optional, default True: If True data saved in previously downloaded files not be requested again \n",
    "* verbose (bool), optional, default True: Controls the number of messages in the screen. If True all messages will be displayed\n",
    "\n",
    "The notebook is organized in pairs of cells:\n",
    "* In the first one the parameters are given values.\n",
    "* In the second cell the corresponding method is executed"
   ]
  },
  {
   "cell_type": "markdown",
   "id": "7a44b149-9339-4ff2-bc7d-3a6c7f9e5ed2",
   "metadata": {},
   "source": [
    "## Meteorological stations in OpenData"
   ]
  },
  {
   "cell_type": "code",
   "execution_count": 2,
   "id": "28f33fde-c093-4711-bb0b-8599b3bf9d5d",
   "metadata": {},
   "outputs": [],
   "source": [
    "# parameters\n",
    "dir_path = './download/meteo_stations'  \n",
    "fetch = 'both'  \n",
    "use_files = True  \n",
    "verbose = True  "
   ]
  },
  {
   "cell_type": "code",
   "execution_count": 3,
   "id": "2bf9e202-f08f-4fb0-8a82-90c1bc2bdd31",
   "metadata": {},
   "outputs": [
    {
     "name": "stdout",
     "output_type": "stream",
     "text": [
      "estaciones_open_data_data.csv has been previously downloaded\n",
      "estaciones_open_data_metadata.csv has been previously downloaded\n"
     ]
    }
   ],
   "source": [
    "aod = AemetOpenData()\n",
    "aod.meteo_stations(dir_path, fetch, use_files, verbose)"
   ]
  },
  {
   "cell_type": "markdown",
   "id": "633d93bd-cce9-4976-b6a2-a1ec272e4d93",
   "metadata": {},
   "source": [
    "## Daily meteorological data from all stations"
   ]
  },
  {
   "cell_type": "code",
   "execution_count": 4,
   "id": "5df5fc90-0b85-49a1-be39-4c56da215d73",
   "metadata": {},
   "outputs": [],
   "source": [
    "# parameters\n",
    "d1 = date(2023, 1, 1)\n",
    "d2 = date(2023, 8, 1)\n",
    "dir_path = './download/data_all_stations'\n",
    "fetch ='both'  \n",
    "verbose = True  \n",
    "use_files = True  "
   ]
  },
  {
   "cell_type": "code",
   "execution_count": 5,
   "id": "045295f7-71bf-43ce-8df1-987ec21f4d7e",
   "metadata": {},
   "outputs": [
    {
     "name": "stdout",
     "output_type": "stream",
     "text": [
      "stations_20230101T000000UTC_20230201T235959UTC_data.csv has been previously downloaded\n",
      "stations_20230101T000000UTC_20230201T235959UTC_metadata.csv has been previously downloaded\n",
      "stations_20230202T000000UTC_20230305T235959UTC_data.csv has been previously downloaded\n",
      "stations_20230202T000000UTC_20230305T235959UTC_metadata.csv has been previously downloaded\n",
      "stations_20230306T000000UTC_20230406T235959UTC_data.csv has been previously downloaded\n",
      "stations_20230306T000000UTC_20230406T235959UTC_metadata.csv has been previously downloaded\n",
      "stations_20230407T000000UTC_20230508T235959UTC_data.csv has been previously downloaded\n",
      "stations_20230407T000000UTC_20230508T235959UTC_metadata.csv has been previously downloaded\n",
      "stations_20230509T000000UTC_20230609T235959UTC_data.csv has been previously downloaded\n",
      "stations_20230509T000000UTC_20230609T235959UTC_metadata.csv has been previously downloaded\n",
      "stations_20230610T000000UTC_20230711T235959UTC_data.csv has been previously downloaded\n",
      "stations_20230610T000000UTC_20230711T235959UTC_metadata.csv has been previously downloaded\n",
      "stations_20230712T000000UTC_20230801T235959UTC_data.csv has been previously downloaded\n",
      "stations_20230712T000000UTC_20230801T235959UTC_metadata.csv has been previously downloaded\n",
      "Downloaded files:  0\n"
     ]
    }
   ],
   "source": [
    "aod = AemetOpenData()\n",
    "downloaded_files = aod.meteo_data_all_stations(d1, d2, dir_path, fetch, verbose, use_files)\n",
    "print('Downloaded files: ', len(downloaded_files))"
   ]
  },
  {
   "cell_type": "markdown",
   "id": "0d0c912e-c2da-4554-8e13-0c3d6f6e3de0",
   "metadata": {},
   "source": [
    "## Daily or monthly meteorological data from selected stations"
   ]
  },
  {
   "cell_type": "code",
   "execution_count": 10,
   "id": "73fd5e6a-7001-468f-85fa-2a2fd58fc5a4",
   "metadata": {},
   "outputs": [],
   "source": [
    "#parameters\n",
    "time_step = 'month'\n",
    "d1 = date(2019, 1, 1)\n",
    "d2 = date(2019, 3, 31)\n",
    "stations = ['7178I', '7031', '7031X']\n",
    "dir_path = './download/data_selected_stations'\n",
    "fetch = 'both'\n",
    "verbose = True\n",
    "use_files = True"
   ]
  },
  {
   "cell_type": "code",
   "execution_count": 11,
   "id": "182cfed3-f47c-4789-be79-5216bf544226",
   "metadata": {},
   "outputs": [
    {
     "name": "stdout",
     "output_type": "stream",
     "text": [
      "7178I_2019_2019_data.csv: 200, OK \n",
      "7178I_2019_2019_metadata.csv: 200, OK Climatologías mensuales anuales\n",
      "7031_2019_2019_data.csv: 200, OK \n",
      "7031_2019_2019_metadata.csv: 200, OK Climatologías mensuales anuales\n",
      "7031X_2019_2019_data.csv: 200, OK \n",
      "7031X_2019_2019_metadata.csv: 200, OK Climatologías mensuales anuales\n",
      "Downloaded files:  6\n"
     ]
    }
   ],
   "source": [
    "aod = AemetOpenData()\n",
    "downloaded_files = aod.meteo_data_by_station(time_step, d1, d2, stations, dir_path, fetch, verbose, use_files)\n",
    "print('Downloaded files: ', len(downloaded_files))"
   ]
  },
  {
   "cell_type": "code",
   "execution_count": null,
   "id": "f6235e93-1206-4efa-84d4-06435e4433a6",
   "metadata": {},
   "outputs": [],
   "source": []
  }
 ],
 "metadata": {
  "kernelspec": {
   "display_name": "Python 3 (ipykernel)",
   "language": "python",
   "name": "python3"
  },
  "language_info": {
   "codemirror_mode": {
    "name": "ipython",
    "version": 3
   },
   "file_extension": ".py",
   "mimetype": "text/x-python",
   "name": "python",
   "nbconvert_exporter": "python",
   "pygments_lexer": "ipython3",
   "version": "3.10.12"
  }
 },
 "nbformat": 4,
 "nbformat_minor": 5
}
